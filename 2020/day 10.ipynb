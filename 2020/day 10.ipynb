{
 "cells": [
  {
   "cell_type": "code",
   "execution_count": 1,
   "metadata": {},
   "outputs": [],
   "source": [
    "import pandas as pd\n",
    "import numpy as np\n",
    "from copy import deepcopy"
   ]
  },
  {
   "cell_type": "code",
   "execution_count": 2,
   "metadata": {},
   "outputs": [],
   "source": [
    "txt='''28\n",
    "33\n",
    "18\n",
    "42\n",
    "31\n",
    "14\n",
    "46\n",
    "20\n",
    "48\n",
    "47\n",
    "24\n",
    "23\n",
    "49\n",
    "45\n",
    "19\n",
    "38\n",
    "39\n",
    "11\n",
    "1\n",
    "32\n",
    "25\n",
    "35\n",
    "8\n",
    "17\n",
    "7\n",
    "9\n",
    "4\n",
    "2\n",
    "34\n",
    "10\n",
    "3'''"
   ]
  },
  {
   "cell_type": "code",
   "execution_count": 2,
   "metadata": {},
   "outputs": [],
   "source": [
    "txt='''71\n",
    "30\n",
    "134\n",
    "33\n",
    "51\n",
    "115\n",
    "122\n",
    "38\n",
    "61\n",
    "103\n",
    "21\n",
    "12\n",
    "44\n",
    "129\n",
    "29\n",
    "89\n",
    "54\n",
    "83\n",
    "96\n",
    "91\n",
    "133\n",
    "102\n",
    "99\n",
    "52\n",
    "144\n",
    "82\n",
    "22\n",
    "68\n",
    "7\n",
    "15\n",
    "93\n",
    "125\n",
    "14\n",
    "92\n",
    "1\n",
    "146\n",
    "67\n",
    "132\n",
    "114\n",
    "59\n",
    "72\n",
    "107\n",
    "34\n",
    "119\n",
    "136\n",
    "60\n",
    "20\n",
    "53\n",
    "8\n",
    "46\n",
    "55\n",
    "26\n",
    "126\n",
    "77\n",
    "65\n",
    "78\n",
    "13\n",
    "108\n",
    "142\n",
    "27\n",
    "75\n",
    "110\n",
    "90\n",
    "35\n",
    "143\n",
    "86\n",
    "116\n",
    "79\n",
    "48\n",
    "113\n",
    "101\n",
    "2\n",
    "123\n",
    "58\n",
    "19\n",
    "76\n",
    "16\n",
    "66\n",
    "135\n",
    "64\n",
    "28\n",
    "9\n",
    "6\n",
    "100\n",
    "124\n",
    "47\n",
    "109\n",
    "23\n",
    "139\n",
    "145\n",
    "5\n",
    "45\n",
    "106\n",
    "41'''"
   ]
  },
  {
   "cell_type": "code",
   "execution_count": 69,
   "metadata": {},
   "outputs": [],
   "source": [
    "txt='''16\n",
    "10\n",
    "15\n",
    "5\n",
    "1\n",
    "11\n",
    "7\n",
    "19\n",
    "6\n",
    "12\n",
    "4'''"
   ]
  },
  {
   "cell_type": "code",
   "execution_count": 3,
   "metadata": {},
   "outputs": [],
   "source": [
    "joltages=np.array(sorted([int(x) for x in txt.split('\\n')]))\n"
   ]
  },
  {
   "cell_type": "code",
   "execution_count": 4,
   "metadata": {},
   "outputs": [],
   "source": [
    "difs=np.array([0]+list(joltages[1:]-joltages[:-1])+[3])"
   ]
  },
  {
   "cell_type": "code",
   "execution_count": 5,
   "metadata": {},
   "outputs": [
    {
     "data": {
      "text/plain": [
       "[210]"
      ]
     },
     "execution_count": 5,
     "metadata": {},
     "output_type": "execute_result"
    }
   ],
   "source": [
    "[(difs==1).sum()*(difs==3).sum()]"
   ]
  },
  {
   "cell_type": "code",
   "execution_count": 6,
   "metadata": {},
   "outputs": [],
   "source": [
    "sequencia=np.array([0]+list(joltages)+[joltages[-1]+3])"
   ]
  },
  {
   "cell_type": "code",
   "execution_count": 7,
   "metadata": {},
   "outputs": [
    {
     "name": "stdout",
     "output_type": "stream",
     "text": [
      "1259712\n",
      "39\n"
     ]
    }
   ],
   "source": [
    "total=1\n",
    "n_opcions=[]\n",
    "for i in range(len(joltages)):\n",
    "    opcions=((sequencia[i+1:i+4]-sequencia[i])<=3).sum()\n",
    "    n_opcions.append(opcions)\n",
    "    total=total*opcions\n",
    "    #print(opcions)\n",
    "print(total)\n",
    "print(((np.array(n_opcions)>1)*np.array(n_opcions)).sum())"
   ]
  },
  {
   "cell_type": "code",
   "execution_count": 8,
   "metadata": {},
   "outputs": [],
   "source": [
    "def opcions_camins(i):\n",
    "    l=len(sequencia)\n",
    "    ret_val=0\n",
    "    if i>=(l-2):\n",
    "        ret_val= 1\n",
    "    else:\n",
    "        if (i<(l-2)): \n",
    "            if ((sequencia[i+1]-sequencia[i])<=3):\n",
    "                ret_val+=camins[i+1]\n",
    "                if (i<(l-3)):\n",
    "                    if ((sequencia[i+2]-sequencia[i])<=3):\n",
    "                        ret_val+=camins[i+2]\n",
    "                        if (i<(l-4)):\n",
    "                            if ((sequencia[i+3]-sequencia[i])<=3):\n",
    "                                ret_val+=camins[i+3]\n",
    "        \n",
    "            \n",
    "    return ret_val"
   ]
  },
  {
   "cell_type": "code",
   "execution_count": 9,
   "metadata": {},
   "outputs": [],
   "source": [
    "camins=sequencia*0\n",
    "camins[-2:]=1"
   ]
  },
  {
   "cell_type": "code",
   "execution_count": 11,
   "metadata": {},
   "outputs": [],
   "source": [
    "for i in range (1,len(sequencia)+1):\n",
    "    camins[len(sequencia)-i]=opcions_camins(len(sequencia)-i)"
   ]
  },
  {
   "cell_type": "code",
   "execution_count": 12,
   "metadata": {},
   "outputs": [
    {
     "data": {
      "text/plain": [
       "array([19208, 10976,  5488,  2744,  2744,  2744,  1568,   784,   392,\n",
       "         392,   392,   392,   196,    98,    98,    98,    49,    49,\n",
       "          49,    49,    28,    14,     7,     7,     7,     7,     7,\n",
       "           7,     4,     2,     1,     1,     1])"
      ]
     },
     "execution_count": 12,
     "metadata": {},
     "output_type": "execute_result"
    }
   ],
   "source": [
    "camins"
   ]
  },
  {
   "cell_type": "code",
   "execution_count": null,
   "metadata": {},
   "outputs": [],
   "source": []
  }
 ],
 "metadata": {
  "kernelspec": {
   "display_name": "Python 3",
   "language": "python",
   "name": "python3"
  },
  "language_info": {
   "codemirror_mode": {
    "name": "ipython",
    "version": 3
   },
   "file_extension": ".py",
   "mimetype": "text/x-python",
   "name": "python",
   "nbconvert_exporter": "python",
   "pygments_lexer": "ipython3",
   "version": "3.6.8"
  }
 },
 "nbformat": 4,
 "nbformat_minor": 2
}
