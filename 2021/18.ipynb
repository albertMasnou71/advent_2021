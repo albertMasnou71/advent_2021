{
 "cells": [
  {
   "cell_type": "code",
   "execution_count": 280,
   "metadata": {},
   "outputs": [],
   "source": [
    "import numpy as np\n",
    "import pandas as pd\n",
    "from tqdm import tqdm\n"
   ]
  },
  {
   "cell_type": "code",
   "execution_count": 2,
   "metadata": {},
   "outputs": [],
   "source": [
    "txt='''[[[0,[4,5]],[0,0]],[[[4,5],[2,6]],[9,5]]]\n",
    "[7,[[[3,7],[4,3]],[[6,3],[8,8]]]]\n",
    "[[2,[[0,8],[3,4]]],[[[6,7],1],[7,[1,6]]]]\n",
    "[[[[2,4],7],[6,[0,5]]],[[[6,8],[2,8]],[[2,1],[4,5]]]]\n",
    "[7,[5,[[3,8],[1,4]]]]\n",
    "[[2,[2,2]],[8,[8,1]]]\n",
    "[2,9]\n",
    "[1,[[[9,3],9],[[9,0],[0,7]]]]\n",
    "[[[5,[7,4]],7],1]\n",
    "[[[[4,2],2],6],[8,7]]'''"
   ]
  },
  {
   "cell_type": "code",
   "execution_count": 25,
   "metadata": {},
   "outputs": [],
   "source": [
    "tree_lists=[eval(x) for x in txt.split('\\n')]\n",
    "tree_strs=[x for x in txt.split('\\n')]\n"
   ]
  },
  {
   "cell_type": "code",
   "execution_count": null,
   "metadata": {},
   "outputs": [],
   "source": [
    "tree_lists"
   ]
  },
  {
   "cell_type": "code",
   "execution_count": 8,
   "metadata": {},
   "outputs": [
    {
     "data": {
      "text/plain": [
       "[[[4, 5], [2, 6]], [9, 5]]"
      ]
     },
     "execution_count": 8,
     "metadata": {},
     "output_type": "execute_result"
    }
   ],
   "source": [
    "tree_lists[0][1]"
   ]
  },
  {
   "cell_type": "code",
   "execution_count": 284,
   "metadata": {},
   "outputs": [],
   "source": [
    "class Node:\n",
    "    def __init__(self,tree_list,deep=0):\n",
    "        if tree_list is not None:\n",
    "            self.deep=deep\n",
    "            self.value=None\n",
    "            if type(tree_list)==list:\n",
    "                self.left=Node(tree_list[0],deep=deep+1)\n",
    "                self.right=Node(tree_list[1],deep=deep+1)\n",
    "            else:\n",
    "                self.value=tree_list\n",
    "                self.left=None\n",
    "                self.right=None\n",
    "        else:\n",
    "            self.value=None\n",
    "            self.left=None\n",
    "            self.right=None\n",
    "            \n",
    "    def set_parent(self,node):\n",
    "        self.parent=node\n",
    "        \n",
    "        \n",
    "    @staticmethod    \n",
    "    def add(node_left,node_right):\n",
    "        root=Node(None)\n",
    "        root.left=node_left\n",
    "        root.right=node_right\n",
    "        return root\n",
    "    def __add__(self,b):\n",
    "        root=Node(None)\n",
    "        root.left=self\n",
    "        root.right=b\n",
    "        return root\n",
    "    \n",
    "    def __repr__(self):\n",
    "        if self.value is None:\n",
    "            txt=f'[{self.left},{self.right}]'\n",
    "        else:\n",
    "            txt=f'{self.value}'\n",
    "        return txt\n",
    "   \n",
    "\n",
    "def find_greater_10(tree):\n",
    "    output=None\n",
    "    if tree.left:\n",
    "        output=greater_10(tree.left)\n",
    "        if output is None:\n",
    "            output=greater_10(tree.right)\n",
    "    else:\n",
    "        if tree.value>=10:\n",
    "            print('found')\n",
    "            output= tree\n",
    "        else:\n",
    "            output=None\n",
    "    return output\n",
    "\n",
    "\n",
    "def traverse(tree,deep=0):\n",
    "    output=[]\n",
    "    if tree.left:\n",
    "        output=traverse(tree.left,deep+1)+traverse(tree.right,deep+1)\n",
    "    else:\n",
    "        output=[tree.value]\n",
    "    if deep==4:\n",
    "        print(tree)\n",
    "    return output\n",
    "\n",
    "\n",
    "def magnitude(tree):\n",
    "        \n",
    "        if tree.left is not None:\n",
    "            return (3*magnitude(tree.left))+(2*magnitude(tree.right))\n",
    "        else:\n",
    "            return tree.value\n",
    "            \n",
    "    \n",
    "\n",
    "    \n",
    "def explode(left_regular_node,explode_node,right_regular_node=None):\n",
    "    if left_regular_node is not None:\n",
    "        left_regular_node.value+=explode_node.left.value\n",
    "    if right_regular_node is not None:\n",
    "        right_regular_node.value+=explode_node.right.value\n",
    "        \n",
    "    explode_node.left=None\n",
    "    explode_node.right=None\n",
    "    explode_node.value=0\n",
    "\n",
    "def split (tree):\n",
    "    left=np.floor(tree.value/2)\n",
    "    right=np.ceil(tree.value/2)\n",
    "    left_node=Node(None)\n",
    "    left_node.value=left\n",
    "    right_node=Node(None)\n",
    "    right_node.value=right\n",
    "    tree.value=None\n",
    "    tree.left=left_node\n",
    "    tree.right=right_node\n",
    "    \n",
    "    \n",
    "def traverse_nested (tree,status=None,deep=0):\n",
    "    if status is None:\n",
    "        status={'done':False,\n",
    "               'left_regular':None,\n",
    "               'nested':None,\n",
    "               'right_regular':None,\n",
    "               'first_greater':None}\n",
    "    if (tree.left is not None ) or (tree.right is not None):\n",
    "        if (deep==4) and status['nested'] is None:\n",
    "            status['nested']=tree\n",
    "        else:\n",
    "            if (tree.left is not None ):\n",
    "                status=traverse_nested(tree.left,status,deep+1)\n",
    "            if (tree.right is not None ):\n",
    "                status=traverse_nested(tree.right,status,deep+1)\n",
    "    else:\n",
    "        #regular value\n",
    "        \n",
    "        left_defined= (status['left_regular'] is not None)\n",
    "        \n",
    "        right_defined= (status['right_regular'] is not None)\n",
    "        \n",
    "        if (status['nested'] is None):\n",
    "            status['left_regular'] =tree\n",
    "        \n",
    "        if not right_defined and (status['nested'] is not None):\n",
    "                status['right_regular'] =tree\n",
    "                \n",
    "        if (tree.value>=10) and (status['first_greater'] is None ):\n",
    "            status['first_greater']=tree\n",
    "            \n",
    "    return status\n",
    "\n",
    "def reduce_nested(tree):\n",
    "    continuar=False\n",
    "    status=traverse_nested(tree)\n",
    "    if (status['nested'] is not None) or (status['first_greater'] is not None):\n",
    "        continuar=True\n",
    "    while continuar:\n",
    "        if status['nested'] is not None:\n",
    "            explode(status['left_regular'],status['nested'],status['right_regular'])\n",
    "        else:\n",
    "            if status['first_greater'] is not None:\n",
    "                split(status['first_greater'])\n",
    "        status=traverse_nested(tree)\n",
    "        continuar=(status['nested'] is not None) or (status['first_greater'] is not None)\n",
    "        "
   ]
  },
  {
   "cell_type": "code",
   "execution_count": 251,
   "metadata": {},
   "outputs": [
    {
     "data": {
      "text/plain": [
       "[[3,[2,[1,[7,3]]]],[6,[5,[4,[3,2]]]]]"
      ]
     },
     "execution_count": 251,
     "metadata": {},
     "output_type": "execute_result"
    }
   ],
   "source": [
    "tree=Node(eval('[[3,[2,[1,[7,3]]]],[6,[5,[4,[3,2]]]]]'))\n",
    "tree"
   ]
  },
  {
   "cell_type": "code",
   "execution_count": 252,
   "metadata": {},
   "outputs": [
    {
     "data": {
      "text/plain": [
       "{'done': False,\n",
       " 'left_regular': 1,\n",
       " 'nested': [7,3],\n",
       " 'right_regular': 6,\n",
       " 'first_greater': None}"
      ]
     },
     "execution_count": 252,
     "metadata": {},
     "output_type": "execute_result"
    }
   ],
   "source": [
    "traverse_nested (tree)\n"
   ]
  },
  {
   "cell_type": "code",
   "execution_count": 253,
   "metadata": {},
   "outputs": [
    {
     "data": {
      "text/plain": [
       "[[3,[2,[8,0]]],[9,[5,[7,0]]]]"
      ]
     },
     "execution_count": 253,
     "metadata": {},
     "output_type": "execute_result"
    }
   ],
   "source": [
    "reduce_nested(tree)\n",
    "tree"
   ]
  },
  {
   "cell_type": "code",
   "execution_count": 260,
   "metadata": {},
   "outputs": [
    {
     "data": {
      "text/plain": [
       "[[[[0,[4,5]],[0,0]],[[[4,5],[2,6]],[9,5]]],[7,[[[3,7],[4,3]],[[6,3],[8,8]]]]]"
      ]
     },
     "execution_count": 260,
     "metadata": {},
     "output_type": "execute_result"
    }
   ],
   "source": [
    "tree=Node(eval('[[[0,[4,5]],[0,0]],[[[4,5],[2,6]],[9,5]]]'))+Node(eval('[7,[[[3,7],[4,3]],[[6,3],[8,8]]]]'))\n",
    "tree"
   ]
  },
  {
   "cell_type": "code",
   "execution_count": 261,
   "metadata": {},
   "outputs": [
    {
     "data": {
      "text/plain": [
       "[[[[4,0],[5,4]],[[7,7.0],[6.0,0]]],[[8.0,[7.0,7.0]],[[7.0,9.0],[5.0,0]]]]"
      ]
     },
     "execution_count": 261,
     "metadata": {},
     "output_type": "execute_result"
    }
   ],
   "source": [
    "reduce_nested(tree)\n",
    "tree"
   ]
  },
  {
   "cell_type": "code",
   "execution_count": 259,
   "metadata": {},
   "outputs": [
    {
     "data": {
      "text/plain": [
       "1384.0"
      ]
     },
     "execution_count": 259,
     "metadata": {},
     "output_type": "execute_result"
    }
   ],
   "source": [
    "magnitude(tree)"
   ]
  },
  {
   "cell_type": "code",
   "execution_count": 276,
   "metadata": {},
   "outputs": [],
   "source": [
    "txt='''[[[3,[8,6]],[6,1]],[[[1,1],2],[[1,0],0]]]\n",
    "[[[1,[7,3]],1],9]\n",
    "[[[2,6],[[3,1],[0,9]]],[[7,[4,8]],[[2,7],3]]]\n",
    "[[[3,[0,4]],[[8,4],[1,9]]],[7,[2,[5,7]]]]\n",
    "[[[4,5],[[0,7],1]],[9,[0,4]]]\n",
    "[[5,[[1,5],[3,6]]],8]\n",
    "[[3,[[9,3],9]],9]\n",
    "[2,[[[2,1],[0,5]],[9,9]]]\n",
    "[[2,[6,9]],[[[4,1],0],[3,4]]]\n",
    "[[[[6,8],0],[[8,8],9]],[[[4,2],3],[3,[7,3]]]]\n",
    "[[3,7],9]\n",
    "[[[[2,5],8],[2,5]],[[0,[5,7]],[[2,5],4]]]\n",
    "[[[8,[6,6]],0],[4,[[5,6],[8,4]]]]\n",
    "[[[1,[8,2]],[[0,4],[2,6]]],[[3,4],0]]\n",
    "[[1,[[9,2],[6,0]]],[[[0,9],5],[[8,0],[1,5]]]]\n",
    "[[2,[[2,3],[1,8]]],[3,[[7,2],[0,7]]]]\n",
    "[[5,4],5]\n",
    "[[[[4,2],[4,8]],[7,3]],[0,[[8,9],6]]]\n",
    "[[[6,7],0],5]\n",
    "[[2,[[9,0],[8,4]]],[[[7,4],[3,4]],0]]\n",
    "[[[9,[8,9]],1],[[5,[6,7]],3]]\n",
    "[[2,[0,0]],[3,[[2,5],[1,4]]]]\n",
    "[[0,1],[0,[[8,8],[8,3]]]]\n",
    "[[[0,2],[2,8]],[1,[[7,0],0]]]\n",
    "[[[[5,4],3],[[7,5],[2,6]]],[[5,8],[0,1]]]\n",
    "[0,[0,0]]\n",
    "[[5,[[5,6],0]],[[[2,7],9],[7,9]]]\n",
    "[[[[0,8],2],[[2,5],[7,6]]],[[9,7],[[8,7],[9,2]]]]\n",
    "[[[0,[4,6]],[[6,3],[4,4]]],[8,[[4,8],[4,8]]]]\n",
    "[[[[8,9],[3,8]],8],[[[7,9],6],[9,[2,7]]]]\n",
    "[[[[8,9],[1,6]],0],[[[8,7],4],[9,[1,4]]]]\n",
    "[5,7]\n",
    "[[[[1,5],[3,6]],[[5,5],4]],[[3,3],[4,[4,0]]]]\n",
    "[[[0,6],[5,[5,3]]],[[4,[0,0]],8]]\n",
    "[7,[6,8]]\n",
    "[[[[8,5],9],[[3,2],7]],[[[6,6],5],2]]\n",
    "[[[[4,4],[0,4]],9],0]\n",
    "[[0,[3,[9,3]]],[9,[[8,0],[0,9]]]]\n",
    "[[[[4,0],0],[1,[1,7]]],[[3,[3,0]],[[1,3],6]]]\n",
    "[[9,4],[3,[[7,1],6]]]\n",
    "[[[[3,7],7],1],[[4,3],[[6,9],[6,9]]]]\n",
    "[[[8,[2,5]],[[8,4],4]],[[[3,4],[6,7]],[5,[8,5]]]]\n",
    "[2,[4,[[3,2],7]]]\n",
    "[[[[3,1],[5,6]],[[2,7],7]],[4,[8,[7,4]]]]\n",
    "[[7,8],[[[3,9],7],2]]\n",
    "[[[[8,8],[5,8]],[[1,0],[6,0]]],[[[1,2],6],[[4,2],[5,5]]]]\n",
    "[[1,[0,9]],[[[2,1],1],1]]\n",
    "[[6,[8,1]],[4,[[7,8],5]]]\n",
    "[[[1,[1,6]],[1,[5,7]]],[[[2,8],6],0]]\n",
    "[9,1]\n",
    "[[[0,[6,5]],[[8,5],2]],[[[2,4],[7,3]],[[1,5],[9,2]]]]\n",
    "[[[2,7],[0,[3,6]]],[[[1,0],[9,6]],[1,[0,4]]]]\n",
    "[6,[[[5,9],8],[0,2]]]\n",
    "[7,[[[9,4],[8,6]],[[1,1],1]]]\n",
    "[[[2,1],0],8]\n",
    "[1,[[6,[1,4]],[[0,0],[1,9]]]]\n",
    "[[[1,[7,9]],2],8]\n",
    "[[[[0,9],2],[[8,4],9]],[0,[[7,7],[4,8]]]]\n",
    "[[1,[2,[1,8]]],[[[3,6],[2,1]],[3,[5,0]]]]\n",
    "[[3,3],[3,5]]\n",
    "[[[[9,3],[4,3]],[5,[8,1]]],[[6,[5,0]],9]]\n",
    "[0,[[9,[3,5]],3]]\n",
    "[[[9,1],0],[[[5,9],[8,0]],[7,[4,8]]]]\n",
    "[[[[7,7],8],3],[[[6,6],[6,5]],[6,4]]]\n",
    "[[[[3,7],1],[9,[4,2]]],[[9,[2,5]],[[9,0],5]]]\n",
    "[5,[[0,2],6]]\n",
    "[[[[2,7],[5,3]],[1,8]],2]\n",
    "[[[8,[7,7]],[9,[0,0]]],4]\n",
    "[[[4,[1,4]],0],[[[8,7],8],[[4,1],7]]]\n",
    "[[[[0,6],0],[[3,2],[9,8]]],[[9,[4,5]],[[7,7],[0,8]]]]\n",
    "[[[[6,3],3],[[1,5],7]],[[0,1],[7,7]]]\n",
    "[[[[2,0],2],[3,[3,5]]],[[[0,8],[8,2]],[[0,6],5]]]\n",
    "[[[6,[5,3]],[[5,5],9]],[[5,9],[[8,7],[3,7]]]]\n",
    "[[[[1,7],[3,4]],[9,2]],1]\n",
    "[[[[8,2],6],1],[[5,[2,7]],[3,9]]]\n",
    "[5,[5,7]]\n",
    "[[[[9,8],[3,4]],[[2,5],[5,6]]],[[[2,7],7],[9,[8,7]]]]\n",
    "[[[1,4],[[6,1],[1,3]]],[1,[7,[1,7]]]]\n",
    "[[[[1,4],8],[[5,1],8]],[[[1,3],[6,9]],[6,[3,3]]]]\n",
    "[[[[4,0],[0,7]],[4,5]],[4,2]]\n",
    "[3,8]\n",
    "[7,[[[7,6],5],[[6,6],5]]]\n",
    "[[[5,[0,5]],[4,4]],[3,[[4,2],[7,0]]]]\n",
    "[[[[7,9],8],[9,6]],[5,0]]\n",
    "[[[[3,0],[5,2]],1],[[[6,9],[5,3]],[[2,5],[6,3]]]]\n",
    "[7,[[[7,7],[4,5]],[9,2]]]\n",
    "[[7,[[4,2],[9,3]]],[7,[6,1]]]\n",
    "[7,9]\n",
    "[[[8,[8,1]],[[7,3],1]],[[9,8],[2,[8,3]]]]\n",
    "[[[9,3],3],3]\n",
    "[[[8,[5,7]],[[2,1],[1,3]]],[[[3,5],2],0]]\n",
    "[[[8,8],0],[[1,4],[[8,6],9]]]\n",
    "[[9,[3,[3,0]]],[1,7]]\n",
    "[1,[[[8,8],1],[2,[0,5]]]]\n",
    "[[0,[1,5]],[9,[0,[9,0]]]]\n",
    "[1,[[[1,1],[8,3]],[1,8]]]\n",
    "[[5,[[7,7],[3,3]]],[[[6,6],[7,8]],[1,[0,0]]]]\n",
    "[[[[6,7],1],[0,2]],[[[4,2],[7,6]],[[8,4],[4,9]]]]\n",
    "[[6,[[3,3],[9,0]]],[1,[[4,5],4]]]\n",
    "[[[[3,4],7],[9,0]],[[[4,5],1],[[5,1],[9,3]]]]'''"
   ]
  },
  {
   "cell_type": "code",
   "execution_count": 277,
   "metadata": {},
   "outputs": [],
   "source": [
    "trees=txt.split('\\n')"
   ]
  },
  {
   "cell_type": "code",
   "execution_count": 278,
   "metadata": {},
   "outputs": [
    {
     "name": "stdout",
     "output_type": "stream",
     "text": [
      "[[[3,[8,6]],[6,1]],[[[1,1],2],[[1,0],0]]]\n",
      "[[[1,[7,3]],1],9]\n",
      "[[[[6.0,0],[6.0,8.0]],[[0,4],[0,0]]],[[[8,0],4],9]]\n",
      "[[[2,6],[[3,1],[0,9]]],[[7,[4,8]],[[2,7],3]]]\n",
      "[[[[6.0,8.0],[4,8]],[[0,4],9]],[[[2,9],[6.0,7.0]],[[6.0,7.0],[0,7.0]]]]\n",
      "[[[3,[0,4]],[[8,4],[1,9]]],[7,[2,[5,7]]]]\n",
      "[[[[6.0,7.0],[7.0,7.0]],[[7.0,8.0],[0,8.0]]],[[[8.0,9.0],[9.0,8.0]],[[8.0,8.0],[7,0]]]]\n",
      "[[[4,5],[[0,7],1]],[9,[0,4]]]\n",
      "[[[[6.0,6.0],[7.0,7.0]],[[7.0,7.0],[7.0,8.0]]],[[[0,8.0],[8.0,8.0]],[[9.0,9.0],[0,4]]]]\n",
      "[[5,[[1,5],[3,6]]],8]\n",
      "[[[[6.0,6.0],[7.0,7.0]],[[7.0,7.0],[8.0,8.0]]],[[[0,8.0],[8.0,7.0]],[9.0,[5.0,5.0]]]]\n",
      "[[3,[[9,3],9]],9]\n",
      "[[[[7.0,6.0],[7.0,0]],[[7.0,7.0],[7.0,7.0]]],[[[7.0,7.0],[8.0,9.0]],[[5.0,5.0],[5.0,5.0]]]]\n",
      "[2,[[[2,1],[0,5]],[9,9]]]\n",
      "[[[[7.0,7.0],[7.0,8.0]],[[7.0,0],[8.0,7.0]]],[[[6.0,7.0],[6.0,7.0]],[[1,7.0],[8.0,0]]]]\n",
      "[[2,[6,9]],[[[4,1],0],[3,4]]]\n",
      "[[[[7.0,7.0],[8.0,7.0]],[[8.0,7.0],[7.0,0]]],[[[8.0,8.0],[8.0,6.0]],[[7.0,1],[3,4]]]]\n",
      "[[[[6,8],0],[[8,8],9]],[[[4,2],3],[3,[7,3]]]]\n",
      "[[[[7.0,7.0],[7.0,7.0]],[[8.0,8.0],[8.0,7.0]]],[[[7.0,9.0],[7.0,9.0]],[[9.0,5.0],[8.0,0]]]]\n",
      "[[3,7],9]\n",
      "[[[[6.0,6.0],[7.0,7.0]],[[0,7.0],[7.0,8.0]]],[[[8.0,9.0],[9.0,9.0]],9]]\n",
      "[[[[2,5],8],[2,5]],[[0,[5,7]],[[2,5],4]]]\n",
      "[[[[6.0,6.0],[6.0,7.0]],[[7.0,7.0],[7.0,7.0]]],[[[0,7.0],[7.0,8.0]],[[8.0,8.0],[8.0,9]]]]\n",
      "[[[8,[6,6]],0],[4,[[5,6],[8,4]]]]\n",
      "[[[[6.0,7.0],[7.0,7.0]],[[7.0,7.0],[7.0,7.0]]],[[[0,7.0],[7.0,7.0]],[[7.0,8.0],[8.0,8.0]]]]\n",
      "[[[1,[8,2]],[[0,4],[2,6]]],[[3,4],0]]\n",
      "[[[[7.0,7.0],[7.0,7.0]],[[7.0,8.0],[8.0,8.0]]],[[[8.0,7.0],[0,8.0]],[[8.0,8.0],7.0]]]\n",
      "[[1,[[9,2],[6,0]]],[[[0,9],5],[[8,0],[1,5]]]]\n",
      "[[[[7.0,7.0],[0,7.0]],[[7.0,7.0],[7.0,8.0]]],[[[8.0,7.0],[7.0,7.0]],[[6.0,6.0],[7.0,9.0]]]]\n",
      "[[2,[[2,3],[1,8]]],[3,[[7,2],[0,7]]]]\n",
      "[[[[7.0,0],[7.0,7.0]],[[7.0,8.0],[7.0,7.0]]],[[[8.0,8.0],[8.0,9.0]],[[9.0,9.0],[2,0]]]]\n",
      "[[5,4],5]\n",
      "[[[[0,7.0],[8.0,7.0]],[[8.0,8.0],[6.0,7.0]]],[[[6.0,6.0],[7.0,8.0]],5]]\n",
      "[[[[4,2],[4,8]],[7,3]],[0,[[8,9],6]]]\n",
      "[[[[8.0,7.0],[8.0,8.0]],[[8.0,8.0],[8.0,8.0]]],[[[0,8.0],[8.0,7.0]],[[7.0,7.0],[7.0,0]]]]\n",
      "[[[6,7],0],5]\n",
      "[[[[6.0,6.0],[7.0,7.0]],[[8.0,7.0],[9.0,7.0]]],[[[0,7.0],[9.0,9.0]],5]]\n",
      "[[2,[[9,0],[8,4]]],[[[7,4],[3,4]],0]]\n",
      "[[[[7.0,7.0],[7.0,7.0]],[[8.0,7.0],[7.0,8.0]]],[[[8.0,8.0],[0,8.0]],[[9.0,9.0],4]]]\n",
      "[[[9,[8,9]],1],[[5,[6,7]],3]]\n",
      "[[[[6.0,6.0],[7.0,7.0]],[[7.0,7.0],[7.0,7.0]]],[[[7.0,8.0],[7.0,7.0]],[[0,8.0],[8.0,7.0]]]]\n",
      "[[2,[0,0]],[3,[[2,5],[1,4]]]]\n",
      "[[[[6.0,7.0],[7.0,8.0]],[[8.0,7.0],[8.0,7.0]]],[[[0,8.0],[7.0,6.0]],[5,[6,0]]]]\n",
      "[[0,1],[0,[[8,8],[8,3]]]]\n",
      "[[[[0,7.0],[7.0,7.0]],[[7.0,6.0],[7.0,6.0]]],[[[5.0,6.0],1],[[8.0,8.0],[0,8.0]]]]\n",
      "[[[0,2],[2,8]],[1,[[7,0],0]]]\n",
      "[[[[6.0,6.0],[7.0,6.0]],[[9.0,5.0],[9.0,8.0]]],[[[5.0,0],[8.0,8]],[8,[0,0]]]]\n",
      "[[[[5,4],3],[[7,5],[2,6]]],[[5,8],[0,1]]]\n",
      "[[[[6.0,6.0],[6.0,7.0]],[[7.0,7.0],[7.0,0]]],[[[8.0,8.0],[8.0,8.0]],[[8.0,7.0],[7.0,1]]]]\n",
      "[0,[0,0]]\n",
      "[[[[7.0,0],[8.0,8.0]],[[7.0,7.0],[6.0,6.0]]],[[[5.0,5.0],[5.0,6.0]],[0,0]]]\n",
      "[[5,[[5,6],0]],[[[2,7],9],[7,9]]]\n",
      "[[[[6.0,7.0],[7.0,7.0]],[[0,8.0],[7.0,7.0]]],[[[5.0,5.0],[0,8]],[[8.0,7.0],[8.0,0]]]]\n",
      "[[[[0,8],2],[[2,5],[7,6]]],[[9,7],[[8,7],[9,2]]]]\n",
      "[[[[7.0,7.0],[7.0,0]],[[7.0,7.0],[7.0,7.0]]],[[[7.0,7.0],[7.0,7.0]],[[7.0,8.0],[8.0,7.0]]]]\n",
      "[[[0,[4,6]],[[6,3],[4,4]]],[8,[[4,8],[4,8]]]]\n",
      "[[[[7.0,7.0],[7.0,7.0]],[[7.0,7.0],[7.0,7.0]]],[[[8.0,8.0],[8.0,8.0]],[[8.0,0],[8.0,9.0]]]]\n",
      "[[[[8,9],[3,8]],8],[[[7,9],6],[9,[2,7]]]]\n",
      "[[[[7.0,7.0],[0,7.0]],[[7.0,7.0],[7.0,7.0]]],[[[7.0,7.0],[7.0,8.0]],[[8.0,7.0],[8.0,7.0]]]]\n",
      "[[[[8,9],[1,6]],0],[[[8,7],4],[9,[1,4]]]]\n",
      "[[[[6.0,6.0],[6.0,6.0]],[[0,6.0],[6.0,7.0]]],[[[7.0,7.0],[7.0,7.0]],[[7.0,7.0],[7.0,7.0]]]]\n",
      "[5,7]\n",
      "[[[[7.0,7.0],[7.0,0]],[[7.0,7.0],[7.0,7.0]]],[[[7.0,8.0],[7.0,8.0]],7]]\n",
      "[[[[1,5],[3,6]],[[5,5],4]],[[3,3],[4,[4,0]]]]\n",
      "[[[[7.0,9.0],[7.0,9.0]],[[7.0,9.0],[9.0,9.0]]],[[[5.0,7.0],[8.0,6.0]],[[0,9.0],[8,0]]]]\n",
      "[[[0,6],[5,[5,3]]],[[4,[0,0]],8]]\n",
      "[[[[6.0,7.0],[7.0,7.0]],[[0,7.0],[7.0,7.0]]],[[[7.0,7.0],[7.0,7.0]],[[7.0,6.0],8]]]\n",
      "[7,[6,8]]\n",
      "[[[[7.0,7.0],[7.0,7.0]],[[7.0,0],[7.0,8.0]]],[[[7.0,7.0],[7.0,7.0]],[6,8]]]\n",
      "[[[[8,5],9],[[3,2],7]],[[[6,6],5],2]]\n",
      "[[[[7.0,7.0],[7.0,7.0]],[[7.0,7.0],[7.0,0]]],[[[7.0,7.0],[8.0,8.0]],[[8.0,7.0],[9.0,9.0]]]]\n",
      "[[[[4,4],[0,4]],9],0]\n",
      "[[[[7.0,8.0],[7.0,7.0]],[[8.0,8.0],[7.0,8.0]]],[[[8.0,0],[8.0,7.0]],[8.0,9.0]]]\n",
      "[[0,[3,[9,3]]],[9,[[8,0],[0,9]]]]\n",
      "[[[[7.0,7.0],[7.0,6.0]],[[7.0,0],[7.0,7.0]]],[[[7.0,7.0],[7.0,7.0]],[[8.0,7.0],[8.0,0]]]]\n",
      "[[[[4,0],0],[1,[1,7]]],[[3,[3,0]],[[1,3],6]]]\n",
      "[[[[6.0,6.0],[6.0,6.0]],[[7.0,8.0],[7.0,8.0]]],[[[7.0,6.0],[0,7.0]],[[6.0,8.0],[0,9]]]]\n",
      "[[9,4],[3,[[7,1],6]]]\n",
      "[[[[7.0,7.0],[7.0,7.0]],[[7.0,0],[8.0,8.0]]],[[[8.0,9.0],[7.0,8.0]],[[5.0,5.0],[0,7]]]]\n",
      "[[[[3,7],7],1],[[4,3],[[6,9],[6,9]]]]\n",
      "[[[[6.0,6.0],[6.0,6.0]],[[6.0,6.0],[7.0,7.0]]],[[[7.0,7.0],[0,7.0]],[[7.0,7.0],[7.0,8.0]]]]\n",
      "[[[8,[2,5]],[[8,4],4]],[[[3,4],[6,7]],[5,[8,5]]]]\n",
      "[[[[7.0,0],[7.0,7.0]],[[7.0,7.0],[7.0,7.0]]],[[[7.0,7.0],[7.0,8.0]],[[7.0,7.0],[6.0,6.0]]]]\n",
      "[2,[4,[[3,2],7]]]\n",
      "[[[[6.0,7.0],[7.0,7.0]],[[9.0,5.0],[8.0,0]]],[[[7.0,8.0],[8.0,8.0]],[7,[0,9]]]]\n",
      "[[[[3,1],[5,6]],[[2,7],7]],[4,[8,[7,4]]]]\n",
      "[[[[7.0,7.0],[7.0,7.0]],[[6.0,7.0],[7.0,7.0]]],[[[0,7.0],[7.0,7.0]],[[7.0,8.0],[8.0,8.0]]]]\n",
      "[[7,8],[[[3,9],7],2]]\n",
      "[[[[6.0,6.0],[6.0,0]],[[6.0,7.0],[7.0,7.0]]],[[[7.0,7.0],[7.0,7.0]],[[6.0,6.0],[6.0,6.0]]]]\n",
      "[[[[8,8],[5,8]],[[1,0],[6,0]]],[[[1,2],6],[[4,2],[5,5]]]]\n",
      "[[[[7.0,7.0],[0,7.0]],[[7.0,7.0],[7.0,7.0]]],[[[8.0,8.0],[8.0,7.0]],[[7.0,8.0],[7.0,7.0]]]]\n",
      "[[1,[0,9]],[[[2,1],1],1]]\n",
      "[[[[7.0,7.0],[0,7.0]],[[7.0,7.0],[8.0,7.0]]],[[[7.0,7.0],[7.0,8.0]],[[9.0,2],1]]]\n",
      "[[6,[8,1]],[4,[[7,8],5]]]\n",
      "[[[[6.0,7.0],[7.0,7.0]],[[0,8.0],[9.0,9.0]]],[[[8.0,9.0],[8,1]],[[5.0,6.0],[6.0,0]]]]\n",
      "[[[1,[1,6]],[1,[5,7]]],[[[2,8],6],0]]\n",
      "[[[[6.0,6.0],[7.0,6.0]],[[7.0,7.0],[7.0,7.0]]],[[[8.0,0],[8.0,8.0]],[[9.0,8.0],7.0]]]\n",
      "[9,1]\n",
      "[[[[6.0,7.0],[7.0,7.0]],[[7.0,0],[7.0,8.0]]],[[[8.0,8.0],[8.0,8.0]],1]]\n",
      "[[[0,[6,5]],[[8,5],2]],[[[2,4],[7,3]],[[1,5],[9,2]]]]\n",
      "[[[[7.0,7.0],[8.0,7.0]],[[7.0,7.0],[0,8.0]]],[[[8.0,8.0],[7.0,7.0]],[[7.0,7.0],[7.0,7.0]]]]\n",
      "[[[2,7],[0,[3,6]]],[[[1,0],[9,6]],[1,[0,4]]]]\n",
      "[[[[6.0,7.0],[7.0,7.0]],[[7.0,0],[7.0,8.0]]],[[[8.0,8.0],[8.0,9.0]],[[9.0,9.0],[7,0]]]]\n",
      "[6,[[[5,9],8],[0,2]]]\n",
      "[[[[6.0,7.0],[7.0,7.0]],[[7.0,7.0],[8.0,0]]],[[[8.0,8.0],[8.0,7.0]],[[7.0,7.0],[9.0,2]]]]\n",
      "[7,[[[9,4],[8,6]],[[1,1],1]]]\n",
      "[[[[7.0,7.0],[7.0,6.0]],[[7.0,7.0],[7.0,7.0]]],[[[0,7.0],[7.0,8.0]],[[8.0,8.0],[8.0,8.0]]]]\n",
      "[[[2,1],0],8]\n",
      "[[[[6.0,0],[6.0,7.0]],[[7.0,7.0],[6.0,6.0]]],[[[6.0,5.0],[9.0,9.0]],8]]\n",
      "[1,[[6,[1,4]],[[0,0],[1,9]]]]\n",
      "[[[[6.0,8.0],[6.0,8.0]],[[7.0,9.0],[0,9.0]]],[[6.0,6.0],[[7,4],[1,0]]]]\n",
      "[[[1,[7,9]],2],8]\n",
      "[[[[6.0,6.0],[6.0,7.0]],[[0,7.0],[7.0,7.0]]],[[[7.0,7.0],[5.0,6.0]],8]]\n",
      "[[[[0,9],2],[[8,4],9]],[0,[[7,7],[4,8]]]]\n",
      "[[[[7.0,8.0],[7.0,8.0]],[[7.0,8.0],[8.0,8.0]]],[[[8.0,7.0],[0,8.0]],[[8.0,7.0],[7.0,6.0]]]]\n",
      "[[1,[2,[1,8]]],[[[3,6],[2,1]],[3,[5,0]]]]\n",
      "[[[[6.0,6.0],[7.0,0]],[[7.0,7.0],[7.0,7.0]]],[[[7.0,7.0],[8.0,8.0]],[[9.0,9.0],[9,0]]]]\n",
      "[[3,3],[3,5]]\n",
      "[[[[6.0,6.0],[7.0,7.0]],[[0,7.0],[7.0,8.0]]],[[[8.0,9.0],[7.0,7.0]],[3,5]]]\n",
      "[[[[9,3],[4,3]],[5,[8,1]]],[[6,[5,0]],9]]\n",
      "[[[[6.0,0],[6.0,7.0]],[[7.0,7.0],[7.0,7.0]]],[[[8.0,7.0],[7.0,7.0]],[[7.0,7.0],[8.0,8.0]]]]\n",
      "[0,[[9,[3,5]],3]]\n",
      "[[[[6.0,7.0],[7.0,8.0]],[[9.0,5.0],[8.0,7.0]]],[[[0,8.0],[8.0,8.0]],[[7.0,6.0],8]]]\n",
      "[[[9,1],0],[[[5,9],[8,0]],[7,[4,8]]]]\n",
      "[[[[7.0,7.0],[7.0,0]],[[8.0,7.0],[8.0,7.0]]],[[[8.0,8.0],[8.0,8.0]],[[7.0,8.0],[7.0,6.0]]]]\n",
      "[[[[7,7],8],3],[[[6,6],[6,5]],[6,4]]]\n",
      "[[[[6.0,6.0],[7.0,7.0]],[[7.0,7.0],[7.0,7.0]]],[[[0,7.0],[7.0,7.0]],[[7.0,8.0],[8.0,7.0]]]]\n",
      "[[[[3,7],1],[9,[4,2]]],[[9,[2,5]],[[9,0],5]]]\n",
      "[[[[7.0,7.0],[7.0,7.0]],[[7.0,7.0],[0,7.0]]],[[[7.0,7.0],[7.0,8.0]],[[8.0,8.0],[9.0,9.0]]]]\n",
      "[5,[[0,2],6]]\n",
      "[[[[6.0,6.0],[7.0,7.0]],[[0,7.0],[8.0,8.0]]],[[[9.0,9.0],[9.0,9.0]],[[0,2],6]]]\n",
      "[[[[2,7],[5,3]],[1,8]],2]\n",
      "[[[[6.0,7.0],[7.0,7.0]],[[7.0,7.0],[0,7.0]]],[[[8.0,8.0],[8.0,8.0]],[5.0,5.0]]]\n",
      "[[[8,[7,7]],[9,[0,0]]],4]\n",
      "[[[[7.0,7.0],[0,7.0]],[[7.0,7.0],[8.0,7.0]]],[[[7.0,7.0],[7.0,8.0]],[7.0,7.0]]]\n",
      "[[[4,[1,4]],0],[[[8,7],8],[[4,1],7]]]\n",
      "[[[[6.0,7.0],[6.0,7.0]],[[7.0,7.0],[6.0,7.0]]],[[[7.0,7.0],[7.0,0]],[[7.0,8.0],[7.0,7.0]]]]\n",
      "[[[[0,6],0],[[3,2],[9,8]]],[[9,[4,5]],[[7,7],[0,8]]]]\n",
      "[[[[6.0,6.0],[6.0,6.0]],[[0,7.0],[7.0,7.0]]],[[[7.0,7.0],[7.0,7.0]],[[7.0,7.0],[8.0,7.0]]]]\n",
      "[[[[6,3],3],[[1,5],7]],[[0,1],[7,7]]]\n",
      "[[[[7.0,7.0],[7.0,7.0]],[[7.0,7.0],[7.0,0]]],[[[7.0,8.0],[8.0,8.0]],[[8.0,9.0],[7,7]]]]\n",
      "[[[[2,0],2],[3,[3,5]]],[[[0,8],[8,2]],[[0,6],5]]]\n",
      "[[[[7.0,8.0],[7.0,8.0]],[[8.0,7.0],[8.0,7.0]]],[[[8.0,7.0],[7.0,0]],[[8.0,8.0],[7.0,8.0]]]]\n",
      "[[[6,[5,3]],[[5,5],9]],[[5,9],[[8,7],[3,7]]]]\n",
      "[[[[7.0,7.0],[7.0,7.0]],[[7.0,7.0],[7.0,0]]],[[[7.0,7.0],[7.0,7.0]],[[8.0,8.0],[8.0,8.0]]]]\n",
      "[[[[1,7],[3,4]],[9,2]],1]\n",
      "[[[[7.0,0],[7.0,7.0]],[[7.0,7.0],[8.0,7.0]]],[[[7.0,6.0],[6.0,6.0]],[[5.0,5.0],[5.0,6.0]]]]\n",
      "[[[[8,2],6],1],[[5,[2,7]],[3,9]]]\n",
      "[[[[6.0,6.0],[6.0,6.0]],[[6.0,7.0],[6.0,7.0]]],[[[0,7.0],[7.0,7.0]],[[7.0,7.0],[7.0,7.0]]]]\n",
      "[5,[5,7]]\n",
      "[[[[6.0,7.0],[7.0,8.0]],[[7.0,0],[8.0,7.0]]],[[[7.0,7.0],[7.0,8.0]],[5,7]]]\n",
      "[[[[9,8],[3,4]],[[2,5],[5,6]]],[[[2,7],7],[9,[8,7]]]]\n",
      "[[[[6.0,7.0],[7.0,7.0]],[[7.0,7.0],[7.0,7.0]]],[[[8.0,8.0],[8.0,0]],[[8.0,8.0],[8.0,7.0]]]]\n",
      "[[[1,4],[[6,1],[1,3]]],[1,[7,[1,7]]]]\n",
      "[[[[7.0,7.0],[7.0,0]],[[7.0,7.0],[8.0,8.0]]],[[[7.0,7.0],[7.0,8.0]],[[5.0,5.0],[8,0]]]]\n",
      "[[[[1,4],8],[[5,1],8]],[[[1,3],[6,9]],[6,[3,3]]]]\n",
      "[[[[6.0,6.0],[7.0,7.0]],[[7.0,0],[7.0,7.0]]],[[[7.0,7.0],[7.0,7.0]],[[7.0,8.0],[8.0,8.0]]]]\n",
      "[[[[4,0],[0,7]],[4,5]],[4,2]]\n",
      "[[[[6.0,6.0],[6.0,6.0]],[[6.0,6.0],[7.0,7.0]]],[[[7.0,7.0],[0,7.0]],[[7.0,7.0],[5.0,6.0]]]]\n",
      "[3,8]\n",
      "[[[[7.0,7.0],[6.0,7.0]],[[0,8.0],[8.0,9.0]]],[[[5.0,5.0],[5.0,6.0]],8]]\n",
      "[7,[[[7,6],5],[[6,6],5]]]\n",
      "[[[[5.0,6.0],[6.0,7.0]],[[0,7.0],[8.0,8.0]]],[[[5.0,6.0],[6.0,6.0]],[[8.0,7.0],[0,7.0]]]]\n",
      "[[[5,[0,5]],[4,4]],[3,[[4,2],[7,0]]]]\n",
      "[[[[7.0,7.0],[7.0,7.0]],[[8.0,7.0],[7.0,8.0]]],[[[7.0,0],[8.0,7.0]],[[7.0,7.0],[9,0]]]]\n",
      "[[[[7,9],8],[9,6]],[5,0]]\n",
      "[[[[7.0,7.0],[7.0,7.0]],[[7.0,7.0],[7.0,7.0]]],[[[7.0,7.0],[8.0,7.0]],[[0,7.0],[8.0,9.0]]]]\n",
      "[[[[3,0],[5,2]],1],[[[6,9],[5,3]],[[2,5],[6,3]]]]\n",
      "[[[[7.0,7.0],[7.0,7.0]],[[7.0,7.0],[7.0,7.0]]],[[[8.0,7.0],[0,8.0]],[[8.0,8.0],[8.0,8.0]]]]\n",
      "[7,[[[7,7],[4,5]],[9,2]]]\n",
      "[[[[7.0,6.0],[7.0,7.0]],[[0,7.0],[7.0,7.0]]],[[[7.0,7.0],[7.0,8.0]],[[8.0,8.0],[8.0,8.0]]]]\n",
      "[[7,[[4,2],[9,3]]],[7,[6,1]]]\n",
      "[[[[7.0,7.0],[7.0,7.0]],[[7.0,7.0],[7.0,7.0]]],[[[7.0,8.0],[8.0,0]],[[8.0,8.0],[8.0,7.0]]]]\n",
      "[7,9]\n",
      "[[[[7.0,7.0],[7.0,7.0]],[[9.0,5.0],[8.0,0]]],[[[9.0,9.0],[9.0,9.0]],9]]\n",
      "[[[8,[8,1]],[[7,3],1]],[[9,8],[2,[8,3]]]]\n",
      "[[[[7.0,7.0],[8.0,7.0]],[[7.0,8.0],[8.0,0]]],[[[8.0,8.0],[8.0,8.0]],[[8.0,8.0],[9.0,9.0]]]]\n",
      "[[[9,3],3],3]\n",
      "[[[[6.0,6.0],[7.0,7.0]],[[8.0,7.0],[8.0,7.0]]],[[[8.0,7.0],[0,7.0]],[[5.0,5.0],[5.0,5.0]]]]\n",
      "[[[8,[5,7]],[[2,1],[1,3]]],[[[3,5],2],0]]\n",
      "[[[[7.0,7.0],[7.0,7.0]],[[7.0,7.0],[7.0,9.0]]],[[[7.0,9.0],[5.0,9.0]],[[8.0,0],8.0]]]\n",
      "[[[8,8],0],[[1,4],[[8,6],9]]]\n",
      "[[[[7.0,7.0],[6.0,6.0]],[[6.0,0],[7.0,7.0]]],[[[7.0,7.0],[7.0,6.0]],[[7.0,7.0],[7.0,7.0]]]]\n",
      "[[9,[3,[3,0]]],[1,7]]\n",
      "[[[[7.0,7.0],[7.0,8.0]],[[7.0,8.0],[8.0,0]]],[[[8.0,8.0],[8.0,7.0]],[7.0,7]]]\n",
      "[1,[[[8,8],1],[2,[0,5]]]]\n",
      "[[[[7.0,0],[7.0,7.0]],[[7.0,7.0],[6.0,5.0]]],[[[6.0,7.0],[7.0,7.0]],[[0,9],[2,0]]]]\n",
      "[[0,[1,5]],[9,[0,[9,0]]]]\n",
      "[[[[7.0,7.0],[8.0,7.0]],[[8.0,0],[8.0,8.0]]],[[[5.0,5.0],[1,5]],[9,[9,0]]]]\n",
      "[1,[[[1,1],[8,3]],[1,8]]]\n",
      "[[[[7.0,7.0],[6.0,7.0]],[[0,7.0],[8.0,9.0]]],[[6.0,6.0],[[9,0],[4,8]]]]\n",
      "[[5,[[7,7],[3,3]]],[[[6,6],[7,8]],[1,[0,0]]]]\n",
      "[[[[6.0,7.0],[7.0,0]],[[7.0,7.0],[8.0,8.0]]],[[[8.0,7.0],[7.0,8.0]],[[8.0,8.0],[8.0,8.0]]]]\n",
      "[[[[6,7],1],[0,2]],[[[4,2],[7,6]],[[8,4],[4,9]]]]\n",
      "[[[[6.0,6.0],[6.0,7.0]],[[0,7.0],[7.0,7.0]]],[[[7.0,7.0],[8.0,8.0]],[[8.0,8.0],[8.0,9.0]]]]\n",
      "[[6,[[3,3],[9,0]]],[1,[[4,5],4]]]\n",
      "[[[[7.0,7.0],[7.0,7.0]],[[7.0,7.0],[7.0,7.0]]],[[[7.0,7.0],[7.0,0]],[[7.0,8.0],[7.0,7.0]]]]\n",
      "[[[[3,4],7],[9,0]],[[[4,5],1],[[5,1],[9,3]]]]\n"
     ]
    },
    {
     "data": {
      "text/plain": [
       "[[[[7.0,7.0],[7.0,7.0]],[[7.0,7.0],[7.0,7.0]]],[[[7.0,8.0],[8.0,7.0]],[[0,8.0],[8.0,7.0]]]]"
      ]
     },
     "execution_count": 278,
     "metadata": {},
     "output_type": "execute_result"
    }
   ],
   "source": [
    "suma=Node(eval(trees[0]))\n",
    "i=0\n",
    "for tree in trees[1:]:\n",
    "    new_tree=Node(eval(tree))\n",
    "    print(suma)\n",
    "    print(new_tree)\n",
    "    suma=suma+new_tree\n",
    "    reduce_nested(suma)\n",
    "suma"
   ]
  },
  {
   "cell_type": "code",
   "execution_count": 279,
   "metadata": {},
   "outputs": [
    {
     "data": {
      "text/plain": [
       "4243.0"
      ]
     },
     "execution_count": 279,
     "metadata": {},
     "output_type": "execute_result"
    }
   ],
   "source": [
    "magnitude(suma)"
   ]
  },
  {
   "cell_type": "code",
   "execution_count": 285,
   "metadata": {},
   "outputs": [
    {
     "name": "stderr",
     "output_type": "stream",
     "text": [
      "100%|██████████| 100/100 [00:03<00:00, 29.18it/s]\n"
     ]
    }
   ],
   "source": [
    "maxim=None\n",
    "for tree_1 in tqdm(trees):\n",
    "    for tree_2 in trees:\n",
    "        suma=Node(eval(tree_1))+Node(eval(tree_2))\n",
    "        reduce_nested(suma)\n",
    "        m=magnitude(suma)\n",
    "        if maxim is None:\n",
    "            maxim=m\n",
    "        else:\n",
    "            if maxim<m:\n",
    "                maxim=m\n",
    "        \n",
    "    "
   ]
  },
  {
   "cell_type": "code",
   "execution_count": 286,
   "metadata": {},
   "outputs": [
    {
     "data": {
      "text/plain": [
       "4701.0"
      ]
     },
     "execution_count": 286,
     "metadata": {},
     "output_type": "execute_result"
    }
   ],
   "source": [
    "maxim"
   ]
  },
  {
   "cell_type": "code",
   "execution_count": 289,
   "metadata": {},
   "outputs": [],
   "source": [
    "import matplotlib.pyplot as plt"
   ]
  },
  {
   "cell_type": "code",
   "execution_count": 288,
   "metadata": {},
   "outputs": [],
   "source": [
    "t=[2.44,2.57,10.17,11.13,8.53,5.47,3.33,20.51,10.31,8.06,9.49,12.40,9.38,14.08,14.25,27.29,12.01,43.50,64,18.57,20.44]\n"
   ]
  },
  {
   "cell_type": "code",
   "execution_count": 293,
   "metadata": {},
   "outputs": [
    {
     "data": {
      "text/plain": [
       "([<matplotlib.axis.XTick at 0x7fefbdb4ff98>,\n",
       "  <matplotlib.axis.XTick at 0x7fefbdb4ff60>,\n",
       "  <matplotlib.axis.XTick at 0x7fefbdb4fb70>,\n",
       "  <matplotlib.axis.XTick at 0x7fefbdaa3e80>,\n",
       "  <matplotlib.axis.XTick at 0x7fefbdabf358>,\n",
       "  <matplotlib.axis.XTick at 0x7fefbdabf7f0>,\n",
       "  <matplotlib.axis.XTick at 0x7fefbdabfc88>,\n",
       "  <matplotlib.axis.XTick at 0x7fefbdabf320>,\n",
       "  <matplotlib.axis.XTick at 0x7fefbdac85f8>,\n",
       "  <matplotlib.axis.XTick at 0x7fefbdabfd30>,\n",
       "  <matplotlib.axis.XTick at 0x7fefbdac85c0>,\n",
       "  <matplotlib.axis.XTick at 0x7fefbdac8be0>,\n",
       "  <matplotlib.axis.XTick at 0x7fefbdac8160>,\n",
       "  <matplotlib.axis.XTick at 0x7fefbdad7550>,\n",
       "  <matplotlib.axis.XTick at 0x7fefbdad79e8>,\n",
       "  <matplotlib.axis.XTick at 0x7fefbdad7e80>,\n",
       "  <matplotlib.axis.XTick at 0x7fefbd606358>,\n",
       "  <matplotlib.axis.XTick at 0x7fefbd6067f0>,\n",
       "  <matplotlib.axis.XTick at 0x7fefbd606c88>,\n",
       "  <matplotlib.axis.XTick at 0x7fefbd606320>,\n",
       "  <matplotlib.axis.XTick at 0x7fefbd606c50>],\n",
       " [Text(0, 0, '1'),\n",
       "  Text(0, 0, '2'),\n",
       "  Text(0, 0, '3'),\n",
       "  Text(0, 0, '4'),\n",
       "  Text(0, 0, '5'),\n",
       "  Text(0, 0, '6'),\n",
       "  Text(0, 0, '7'),\n",
       "  Text(0, 0, '8'),\n",
       "  Text(0, 0, '9'),\n",
       "  Text(0, 0, '10'),\n",
       "  Text(0, 0, '11'),\n",
       "  Text(0, 0, '12'),\n",
       "  Text(0, 0, '13'),\n",
       "  Text(0, 0, '14'),\n",
       "  Text(0, 0, '15'),\n",
       "  Text(0, 0, '16'),\n",
       "  Text(0, 0, '17'),\n",
       "  Text(0, 0, '18'),\n",
       "  Text(0, 0, '19'),\n",
       "  Text(0, 0, '20'),\n",
       "  Text(0, 0, '21')])"
      ]
     },
     "execution_count": 293,
     "metadata": {},
     "output_type": "execute_result"
    },
    {
     "data": {
      "image/png": "[encoded data removed]",
      "text/plain": [
       "<Figure size 1008x432 with 1 Axes>"
      ]
     },
     "metadata": {},
     "output_type": "display_data"
    }
   ],
   "source": [
    "plt.style.use('fivethirtyeight')\n",
    "plt.figure(figsize=(14,6))\n",
    "plt.bar(1+np.arange(len(t)),t)\n",
    "plt.xlabel('day exercise')\n",
    "plt.ylabel('100 rank solution time (minutes)')\n",
    "plt.xticks(1+np.arange(len(t)),1+np.arange(len(t)))"
   ]
  },
  {
   "cell_type": "code",
   "execution_count": null,
   "metadata": {},
   "outputs": [],
   "source": []
  },
  {
   "cell_type": "code",
   "execution_count": null,
   "metadata": {},
   "outputs": [],
   "source": [
    "[[[[6,6],[7,6]],[[7,7],[7,0]]],[[[7,7],[7,7]],[[7,8],[9,9]]]]"
   ]
  },
  {
   "cell_type": "code",
   "execution_count": 103,
   "metadata": {},
   "outputs": [],
   "source": [
    "def add_tree_str(l1,l2):\n",
    "    r='['+l1+','+l2+']'\n",
    "    r=reduce(r)\n",
    "def detect_nested(tree_str):\n",
    "    inici_nested=None\n",
    "    final_nested=None\n",
    "    oberts=(np.array(list(tree_str))=='[').cumsum()\n",
    "    tencats=(np.array(list(tree_str))==']').cumsum()\n",
    "    profunditat=((oberts-tencats)-1)\n",
    "    nested_4=np.where(profunditat==4)[0]\n",
    "    if len (nested_4):\n",
    "        inici_nested=min(nested_4)\n",
    "        final_nested=min(np.where((profunditat[:-1]==4)&(profunditat[1:]!=4))[0])+1\n",
    "\n",
    "    return inici_nested,final_nested\n",
    "def explode_pair(tree_str,inici_pair,final_pair):\n",
    "    values=eval(tree_str[inici_pair:final_pair+1])\n",
    "    left_value=values[0]\n",
    "    right_value=values[1]\n",
    "    \n",
    "def detect_left\n",
    "\n"
   ]
  },
  {
   "cell_type": "code",
   "execution_count": 104,
   "metadata": {},
   "outputs": [
    {
     "name": "stdout",
     "output_type": "stream",
     "text": [
      "[5,3]\n"
     ]
    }
   ],
   "source": [
    "tree='[[3,[2,[1,[5,3]]]],[6,[5,[4,[3,2]]]]]'\n",
    "pos=detect_nested(tree)\n",
    "if pos[0] is not None:\n",
    "    print(tree[pos[0]:pos[1]+1])"
   ]
  },
  {
   "cell_type": "code",
   "execution_count": 98,
   "metadata": {},
   "outputs": [
    {
     "data": {
      "text/plain": [
       "(10, 11)"
      ]
     },
     "execution_count": 98,
     "metadata": {},
     "output_type": "execute_result"
    }
   ],
   "source": [
    "pos\n"
   ]
  },
  {
   "cell_type": "code",
   "execution_count": 37,
   "metadata": {},
   "outputs": [
    {
     "data": {
      "text/plain": [
       "4"
      ]
     },
     "execution_count": 37,
     "metadata": {},
     "output_type": "execute_result"
    }
   ],
   "source": [
    "np.where(((oberts-tencats)-1)==4)[0].min()"
   ]
  },
  {
   "cell_type": "code",
   "execution_count": 35,
   "metadata": {},
   "outputs": [
    {
     "data": {
      "text/plain": [
       "'[9,8'"
      ]
     },
     "execution_count": 35,
     "metadata": {},
     "output_type": "execute_result"
    }
   ],
   "source": [
    "tree_str[4:8]"
   ]
  },
  {
   "cell_type": "code",
   "execution_count": null,
   "metadata": {},
   "outputs": [],
   "source": []
  }
 ],
 "metadata": {
  "kernelspec": {
   "display_name": "Python 3",
   "language": "python",
   "name": "python3"
  },
  "language_info": {
   "codemirror_mode": {
    "name": "ipython",
    "version": 3
   },
   "file_extension": ".py",
   "mimetype": "text/x-python",
   "name": "python",
   "nbconvert_exporter": "python",
   "pygments_lexer": "ipython3",
   "version": "3.6.8"
  }
 },
 "nbformat": 4,
 "nbformat_minor": 2
}
