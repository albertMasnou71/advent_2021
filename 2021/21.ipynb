{
 "cells": [
  {
   "cell_type": "code",
   "execution_count": 1,
   "metadata": {},
   "outputs": [],
   "source": [
    "import numpy as np\n",
    "import pandas as pd\n",
    "import matplotlib.pyplot as plt\n",
    "from tqdm import tqdm"
   ]
  },
  {
   "cell_type": "code",
   "execution_count": 2,
   "metadata": {},
   "outputs": [],
   "source": [
    "continuar=True\n",
    "tiradas=0\n",
    "points=[0,0]\n",
    "player_position=[5,7]\n",
    "continuar=True\n",
    "while continuar:\n",
    "    dice=((tiradas*3)+2)*3 #\n",
    "    \n",
    "    actual_player=tiradas%2\n",
    "    player_position[actual_player]+=dice\n",
    "    player_position[actual_player]=player_position[actual_player]%10\n",
    "    \n",
    "    points[actual_player]+=(player_position[actual_player]+1)\n",
    "    #print(f'player={actual_player}:dice={dice}:position:{player_position[actual_player]+1} points:{points[actual_player]}')\n",
    "    if points[actual_player]>=1000:\n",
    "        continuar=False\n",
    "    tiradas+=1\n",
    "    \n",
    "    "
   ]
  },
  {
   "cell_type": "code",
   "execution_count": 3,
   "metadata": {},
   "outputs": [
    {
     "data": {
      "text/plain": [
       "757770"
      ]
     },
     "execution_count": 3,
     "metadata": {},
     "output_type": "execute_result"
    }
   ],
   "source": [
    "min(points)*(tiradas*3)"
   ]
  },
  {
   "cell_type": "code",
   "execution_count": 4,
   "metadata": {},
   "outputs": [
    {
     "data": {
      "text/plain": [
       "1005"
      ]
     },
     "execution_count": 4,
     "metadata": {},
     "output_type": "execute_result"
    }
   ],
   "source": [
    "tiradas*3"
   ]
  },
  {
   "cell_type": "code",
   "execution_count": 8,
   "metadata": {},
   "outputs": [
    {
     "data": {
      "text/plain": [
       "array([0., 0., 0., 1., 3., 6., 7., 6., 3., 1.])"
      ]
     },
     "execution_count": 8,
     "metadata": {},
     "output_type": "execute_result"
    }
   ],
   "source": [
    "sumas"
   ]
  },
  {
   "cell_type": "code",
   "execution_count": 9,
   "metadata": {},
   "outputs": [],
   "source": [
    "#part 2\n"
   ]
  },
  {
   "cell_type": "code",
   "execution_count": 72,
   "metadata": {},
   "outputs": [],
   "source": [
    "score_posicio_a=np.zeros((10,1000))\n",
    "score_posicio_b=np.zeros((10,1000))\n",
    "score_posicio_a[5,0]=1\n",
    "score_posicio_b[7,0]=1\n"
   ]
  },
  {
   "cell_type": "code",
   "execution_count": 11,
   "metadata": {},
   "outputs": [],
   "source": [
    "dice_counts={'3':1,'4':3,'5':6,'6':7,'7':6,'8':3,'9':1}\n",
    "dice_counts_list=[[3,1],[4,3],[5,6],[6,7],[7,6],[8,3],[9,1]]"
   ]
  },
  {
   "cell_type": "code",
   "execution_count": 12,
   "metadata": {},
   "outputs": [],
   "source": [
    "inicial_score=score_posicio_a"
   ]
  },
  {
   "cell_type": "code",
   "execution_count": 13,
   "metadata": {},
   "outputs": [],
   "source": [
    "def tirar_daus_quantics(inicial_score):\n",
    "    new_score=np.zeros((10,1000))\n",
    "    for score in range(40):\n",
    "        for posicio in range(10):\n",
    "            posicions=(posicio+np.arange(3,10))%10\n",
    "            scores=score+(posicions+1)\n",
    "            universos=sumas[3:]*inicial_score[posicio,score]\n",
    "            '''if sum(universos):\n",
    "                print(posicions)\n",
    "                print(scores)\n",
    "                print(universos)'''\n",
    "            for p,s,u in zip(posicions,scores,universos):\n",
    "                    new_score[p,s]+=u\n",
    "    return new_score\n",
    "    "
   ]
  },
  {
   "cell_type": "code",
   "execution_count": 14,
   "metadata": {},
   "outputs": [],
   "source": [
    "score_a=score_posicio_a\n",
    "score_b=score_posicio_b"
   ]
  },
  {
   "cell_type": "code",
   "execution_count": 180,
   "metadata": {},
   "outputs": [],
   "source": [
    "\n",
    "score_a=tirar_daus_quantics(score_a)\n",
    "\n",
    "score_b=tirar_daus_quantics(score_b)\n"
   ]
  },
  {
   "cell_type": "code",
   "execution_count": 181,
   "metadata": {},
   "outputs": [
    {
     "data": {
      "text/plain": [
       "[19683.0, 19683.0]"
      ]
     },
     "execution_count": 181,
     "metadata": {},
     "output_type": "execute_result"
    }
   ],
   "source": [
    "[score_a.sum(),score_b.sum()]"
   ]
  },
  {
   "cell_type": "code",
   "execution_count": 182,
   "metadata": {},
   "outputs": [
    {
     "data": {
      "text/plain": [
       "[4608.0, 1730.0]"
      ]
     },
     "execution_count": 182,
     "metadata": {},
     "output_type": "execute_result"
    }
   ],
   "source": [
    "[score_a[:,21:].sum(),score_b[:,21:].sum()]"
   ]
  },
  {
   "cell_type": "code",
   "execution_count": 73,
   "metadata": {},
   "outputs": [],
   "source": [
    "inicial_score=score_posicio_a\n",
    "winners=0"
   ]
  },
  {
   "cell_type": "code",
   "execution_count": 85,
   "metadata": {},
   "outputs": [],
   "source": [
    "def tirar_daus_quantics(inicial_score):\n",
    "    \n",
    "    new_score=np.zeros((10,50))\n",
    "    for score in range(40):\n",
    "        for posicio in range(10):\n",
    "            posicions=(posicio+np.arange(3,10))%10\n",
    "            scores=score+(posicions+1)\n",
    "            universos=sumas[3:]*inicial_score[posicio,score]\n",
    "            '''if sum(universos):\n",
    "                print(posicions)\n",
    "                print(scores)\n",
    "                print(universos)'''\n",
    "            for p,s,u in zip(posicions,scores,universos):\n",
    "                    new_score[p,s]+=u\n",
    "\n",
    "    return new_score"
   ]
  },
  {
   "cell_type": "code",
   "execution_count": null,
   "metadata": {},
   "outputs": [],
   "source": [
    "inicial_score=score_posicio_a\n",
    "new_score=tirar_daus_quantics(inicial_score)\n"
   ]
  },
  {
   "cell_type": "code",
   "execution_count": 83,
   "metadata": {
    "scrolled": true
   },
   "outputs": [
    {
     "name": "stdout",
     "output_type": "stream",
     "text": [
      "282479757.0\n"
     ]
    }
   ],
   "source": [
    "\n",
    "new_score=np.zeros((10,50))\n",
    "for score in range(40):\n",
    "    for posicio in range(10):\n",
    "        posicions=(posicio+np.arange(3,10))%10\n",
    "        scores=score+(posicions+1)\n",
    "        universos=sumas[3:]*inicial_score[posicio,score]\n",
    "        '''if sum(universos):\n",
    "            print(posicions)\n",
    "            print(scores)\n",
    "            print(universos)'''\n",
    "        for p,s,u in zip(posicions,scores,universos):\n",
    "                new_score[p,s]+=u\n",
    "\n",
    "winners+=new_score[:,21:].sum()\n",
    "new_score[:,21:]=0\n",
    "inicial_score=new_score.copy()   \n",
    "print(winners)   \n",
    "        "
   ]
  },
  {
   "cell_type": "code",
   "execution_count": 37,
   "metadata": {},
   "outputs": [],
   "source": [
    "scores_a=new_score"
   ]
  },
  {
   "cell_type": "code",
   "execution_count": 46,
   "metadata": {},
   "outputs": [],
   "source": [
    "inicial_score=score_posicio_b\n",
    "winners=0"
   ]
  },
  {
   "cell_type": "code",
   "execution_count": 57,
   "metadata": {},
   "outputs": [
    {
     "name": "stdout",
     "output_type": "stream",
     "text": [
      "196218569.0\n"
     ]
    }
   ],
   "source": [
    "\n",
    "new_score=np.zeros((10,50))\n",
    "for score in range(40):\n",
    "    for posicio in range(10):\n",
    "        posicions=(posicio+np.arange(3,10))%10\n",
    "        scores=score+(posicions+1)\n",
    "        universos=sumas[3:]*inicial_score[posicio,score]\n",
    "        '''if sum(universos):\n",
    "            print(posicions)\n",
    "            print(scores)\n",
    "            print(universos)'''\n",
    "        for p,s,u in zip(posicions,scores,universos):\n",
    "                new_score[p,s]+=u\n",
    "\n",
    "winners+=new_score[:,21:].sum()\n",
    "new_score[:,21:]=0\n",
    "inicial_score=new_score.copy()   \n",
    "print(winners)"
   ]
  },
  {
   "cell_type": "markdown",
   "metadata": {},
   "source": [
    "## lista de universos"
   ]
  },
  {
   "cell_type": "code",
   "execution_count": 9,
   "metadata": {},
   "outputs": [],
   "source": [
    "sumas=np.zeros(10)\n",
    "for i1 in range(1,4):\n",
    "    for i2 in range(1,4):\n",
    "        for i3 in range(1,4):\n",
    "            sumas[i1+i2+i3]+=1"
   ]
  },
  {
   "cell_type": "code",
   "execution_count": 265,
   "metadata": {},
   "outputs": [],
   "source": [
    "universos=[[5,0,7,0,1]]\n",
    "guanyen_s1=0\n",
    "guanyen_s2=0\n",
    "gs1=[]"
   ]
  },
  {
   "cell_type": "code",
   "execution_count": 266,
   "metadata": {},
   "outputs": [
    {
     "name": "stdout",
     "output_type": "stream",
     "text": [
      "49->[0 vs 0]\n",
      "2401->[0 vs 0]\n",
      "12870->[1279395 vs 31015440]\n",
      "8464->[4094347959 vs 59101037748]\n",
      "4900->[1343154806659 vs 9010627230610]\n",
      "2401->[57130635298323 vs 175782206423114]\n",
      "625->[502821419514533 vs 512661845395730]\n",
      "100->[709444584321611 vs 540922134016620]\n",
      "1->[712381571817095 vs 540941920252956]\n",
      "0->[712381680443927 vs 540941920252956]\n"
     ]
    }
   ],
   "source": [
    "continuar=True\n",
    "while continuar:\n",
    "    universo_out=[]\n",
    "    for u in universos:\n",
    "        posicio1=u[0]\n",
    "        score1=u[1]\n",
    "        posicio2=u[2]\n",
    "        score2=u[3]\n",
    "        universos=u[4]\n",
    "        posicions1=(posicio1+np.arange(3,10))%10\n",
    "        scores1=score1+(posicions1+1)\n",
    "        posicions2=(posicio2+np.arange(3,10))%10\n",
    "        scores2=score2+(posicions2+1)\n",
    "        for p1,s1,u1 in zip(posicions1,scores1,sumas[3:]):\n",
    "            if s1>=21:\n",
    "                universo_out.append([p1,s1,posicio2,score2,(u1*universos).astype(int)])\n",
    "            \n",
    "        for p1,s1,u1 in zip(posicions1,scores1,sumas[3:]):\n",
    "            for p2,s2,u2 in zip(posicions2,scores2,sumas[3:]):\n",
    "                if s1<21:\n",
    "                    universo_out.append([p1,s1,p2,s2,(u1*u2*universos).astype(int)])\n",
    "\n",
    "    if len(universo_out)>0:\n",
    "        universo_df=pd.DataFrame(universo_out).rename(columns={0:'p1',1:'s1',2:'p2',3:'s2',4:'u'}).groupby(['p1','s1','p2','s2']).u.sum().reset_index()\n",
    "    \n",
    "        no_acavats=universo_df[(universo_df.s1<21)&(universo_df.s2<21)]\n",
    "        gs1.append(universo_df[(universo_df.s1>=21)&(universo_df.s2<21)].u.sum())\n",
    "        anterior=guanyen_s1\n",
    "        guanyen_s1+=int(universo_df[(universo_df.s1>=21)].u.sum())\n",
    "        if guanyen_s1<anterior:\n",
    "            print('error')\n",
    "        guanyen_s2+=int(universo_df[(universo_df.s2>=21)&(universo_df.s1<21)].u.sum())\n",
    "        universo_df=no_acavats\n",
    "        universos=[list(universo_df.iloc[i,:].values) for i in range(universo_df.shape[0])]\n",
    "        print(f'{len(universos)}->[{guanyen_s1} vs {guanyen_s2}]')\n",
    "    else:\n",
    "        continuar=False"
   ]
  },
  {
   "cell_type": "code",
   "execution_count": 267,
   "metadata": {},
   "outputs": [
    {
     "data": {
      "text/plain": [
       "True"
      ]
     },
     "execution_count": 267,
     "metadata": {},
     "output_type": "execute_result"
    }
   ],
   "source": [
    "guanyen_s1>guanyen_s2"
   ]
  },
  {
   "cell_type": "code",
   "execution_count": 227,
   "metadata": {},
   "outputs": [
    {
     "data": {
      "text/plain": [
       "154376328344663"
      ]
     },
     "execution_count": 227,
     "metadata": {},
     "output_type": "execute_result"
    }
   ],
   "source": [
    "np.sum(np.array(gs1).astype(int))"
   ]
  },
  {
   "cell_type": "code",
   "execution_count": 168,
   "metadata": {},
   "outputs": [
    {
     "data": {
      "text/plain": [
       "271438145890854"
      ]
     },
     "execution_count": 168,
     "metadata": {},
     "output_type": "execute_result"
    }
   ],
   "source": [
    "int(np.sum(gs1[7:]))+int(np.sum(gs1[:7]))"
   ]
  },
  {
   "cell_type": "code",
   "execution_count": 151,
   "metadata": {},
   "outputs": [
    {
     "data": {
      "text/plain": [
       "11997614504960505"
      ]
     },
     "execution_count": 151,
     "metadata": {},
     "output_type": "execute_result"
    }
   ],
   "source": [
    "8384407975224999+3613206529735506"
   ]
  },
  {
   "cell_type": "code",
   "execution_count": 153,
   "metadata": {},
   "outputs": [
    {
     "data": {
      "text/plain": [
       "341960390180808.0"
      ]
     },
     "execution_count": 153,
     "metadata": {},
     "output_type": "execute_result"
    }
   ],
   "source": [
    "guanyen_s2"
   ]
  },
  {
   "cell_type": "code",
   "execution_count": 17,
   "metadata": {},
   "outputs": [],
   "source": [
    "universo_df=pd.DataFrame(universo_out).rename(columns={0:'p1',1:'s1',2:'p2',3:'s2',4:'u'}).groupby(['p1','s1','p2','s2']).u.sum().reset_index()"
   ]
  },
  {
   "cell_type": "code",
   "execution_count": 18,
   "metadata": {},
   "outputs": [
    {
     "data": {
      "text/html": [
       "<div>\n",
       "<style scoped>\n",
       "    .dataframe tbody tr th:only-of-type {\n",
       "        vertical-align: middle;\n",
       "    }\n",
       "\n",
       "    .dataframe tbody tr th {\n",
       "        vertical-align: top;\n",
       "    }\n",
       "\n",
       "    .dataframe thead th {\n",
       "        text-align: right;\n",
       "    }\n",
       "</style>\n",
       "<table border=\"1\" class=\"dataframe\">\n",
       "  <thead>\n",
       "    <tr style=\"text-align: right;\">\n",
       "      <th></th>\n",
       "      <th>p1</th>\n",
       "      <th>s1</th>\n",
       "      <th>p2</th>\n",
       "      <th>s2</th>\n",
       "      <th>u</th>\n",
       "    </tr>\n",
       "  </thead>\n",
       "  <tbody>\n",
       "    <tr>\n",
       "      <th>0</th>\n",
       "      <td>0</td>\n",
       "      <td>1</td>\n",
       "      <td>0</td>\n",
       "      <td>1</td>\n",
       "      <td>6.0</td>\n",
       "    </tr>\n",
       "    <tr>\n",
       "      <th>1</th>\n",
       "      <td>0</td>\n",
       "      <td>1</td>\n",
       "      <td>1</td>\n",
       "      <td>2</td>\n",
       "      <td>18.0</td>\n",
       "    </tr>\n",
       "    <tr>\n",
       "      <th>2</th>\n",
       "      <td>0</td>\n",
       "      <td>1</td>\n",
       "      <td>2</td>\n",
       "      <td>3</td>\n",
       "      <td>36.0</td>\n",
       "    </tr>\n",
       "    <tr>\n",
       "      <th>3</th>\n",
       "      <td>0</td>\n",
       "      <td>1</td>\n",
       "      <td>3</td>\n",
       "      <td>4</td>\n",
       "      <td>42.0</td>\n",
       "    </tr>\n",
       "    <tr>\n",
       "      <th>4</th>\n",
       "      <td>0</td>\n",
       "      <td>1</td>\n",
       "      <td>4</td>\n",
       "      <td>5</td>\n",
       "      <td>36.0</td>\n",
       "    </tr>\n",
       "    <tr>\n",
       "      <th>5</th>\n",
       "      <td>0</td>\n",
       "      <td>1</td>\n",
       "      <td>5</td>\n",
       "      <td>6</td>\n",
       "      <td>18.0</td>\n",
       "    </tr>\n",
       "    <tr>\n",
       "      <th>6</th>\n",
       "      <td>0</td>\n",
       "      <td>1</td>\n",
       "      <td>6</td>\n",
       "      <td>7</td>\n",
       "      <td>6.0</td>\n",
       "    </tr>\n",
       "    <tr>\n",
       "      <th>7</th>\n",
       "      <td>1</td>\n",
       "      <td>2</td>\n",
       "      <td>0</td>\n",
       "      <td>1</td>\n",
       "      <td>3.0</td>\n",
       "    </tr>\n",
       "    <tr>\n",
       "      <th>8</th>\n",
       "      <td>1</td>\n",
       "      <td>2</td>\n",
       "      <td>1</td>\n",
       "      <td>2</td>\n",
       "      <td>9.0</td>\n",
       "    </tr>\n",
       "    <tr>\n",
       "      <th>9</th>\n",
       "      <td>1</td>\n",
       "      <td>2</td>\n",
       "      <td>2</td>\n",
       "      <td>3</td>\n",
       "      <td>18.0</td>\n",
       "    </tr>\n",
       "    <tr>\n",
       "      <th>10</th>\n",
       "      <td>1</td>\n",
       "      <td>2</td>\n",
       "      <td>3</td>\n",
       "      <td>4</td>\n",
       "      <td>21.0</td>\n",
       "    </tr>\n",
       "    <tr>\n",
       "      <th>11</th>\n",
       "      <td>1</td>\n",
       "      <td>2</td>\n",
       "      <td>4</td>\n",
       "      <td>5</td>\n",
       "      <td>18.0</td>\n",
       "    </tr>\n",
       "    <tr>\n",
       "      <th>12</th>\n",
       "      <td>1</td>\n",
       "      <td>2</td>\n",
       "      <td>5</td>\n",
       "      <td>6</td>\n",
       "      <td>9.0</td>\n",
       "    </tr>\n",
       "    <tr>\n",
       "      <th>13</th>\n",
       "      <td>1</td>\n",
       "      <td>2</td>\n",
       "      <td>6</td>\n",
       "      <td>7</td>\n",
       "      <td>3.0</td>\n",
       "    </tr>\n",
       "    <tr>\n",
       "      <th>14</th>\n",
       "      <td>2</td>\n",
       "      <td>3</td>\n",
       "      <td>0</td>\n",
       "      <td>1</td>\n",
       "      <td>1.0</td>\n",
       "    </tr>\n",
       "    <tr>\n",
       "      <th>15</th>\n",
       "      <td>2</td>\n",
       "      <td>3</td>\n",
       "      <td>1</td>\n",
       "      <td>2</td>\n",
       "      <td>3.0</td>\n",
       "    </tr>\n",
       "    <tr>\n",
       "      <th>16</th>\n",
       "      <td>2</td>\n",
       "      <td>3</td>\n",
       "      <td>2</td>\n",
       "      <td>3</td>\n",
       "      <td>6.0</td>\n",
       "    </tr>\n",
       "    <tr>\n",
       "      <th>17</th>\n",
       "      <td>2</td>\n",
       "      <td>3</td>\n",
       "      <td>3</td>\n",
       "      <td>4</td>\n",
       "      <td>7.0</td>\n",
       "    </tr>\n",
       "    <tr>\n",
       "      <th>18</th>\n",
       "      <td>2</td>\n",
       "      <td>3</td>\n",
       "      <td>4</td>\n",
       "      <td>5</td>\n",
       "      <td>6.0</td>\n",
       "    </tr>\n",
       "    <tr>\n",
       "      <th>19</th>\n",
       "      <td>2</td>\n",
       "      <td>3</td>\n",
       "      <td>5</td>\n",
       "      <td>6</td>\n",
       "      <td>3.0</td>\n",
       "    </tr>\n",
       "    <tr>\n",
       "      <th>20</th>\n",
       "      <td>2</td>\n",
       "      <td>3</td>\n",
       "      <td>6</td>\n",
       "      <td>7</td>\n",
       "      <td>1.0</td>\n",
       "    </tr>\n",
       "    <tr>\n",
       "      <th>21</th>\n",
       "      <td>6</td>\n",
       "      <td>7</td>\n",
       "      <td>0</td>\n",
       "      <td>1</td>\n",
       "      <td>1.0</td>\n",
       "    </tr>\n",
       "    <tr>\n",
       "      <th>22</th>\n",
       "      <td>6</td>\n",
       "      <td>7</td>\n",
       "      <td>1</td>\n",
       "      <td>2</td>\n",
       "      <td>3.0</td>\n",
       "    </tr>\n",
       "    <tr>\n",
       "      <th>23</th>\n",
       "      <td>6</td>\n",
       "      <td>7</td>\n",
       "      <td>2</td>\n",
       "      <td>3</td>\n",
       "      <td>6.0</td>\n",
       "    </tr>\n",
       "    <tr>\n",
       "      <th>24</th>\n",
       "      <td>6</td>\n",
       "      <td>7</td>\n",
       "      <td>3</td>\n",
       "      <td>4</td>\n",
       "      <td>7.0</td>\n",
       "    </tr>\n",
       "    <tr>\n",
       "      <th>25</th>\n",
       "      <td>6</td>\n",
       "      <td>7</td>\n",
       "      <td>4</td>\n",
       "      <td>5</td>\n",
       "      <td>6.0</td>\n",
       "    </tr>\n",
       "    <tr>\n",
       "      <th>26</th>\n",
       "      <td>6</td>\n",
       "      <td>7</td>\n",
       "      <td>5</td>\n",
       "      <td>6</td>\n",
       "      <td>3.0</td>\n",
       "    </tr>\n",
       "    <tr>\n",
       "      <th>27</th>\n",
       "      <td>6</td>\n",
       "      <td>7</td>\n",
       "      <td>6</td>\n",
       "      <td>7</td>\n",
       "      <td>1.0</td>\n",
       "    </tr>\n",
       "    <tr>\n",
       "      <th>28</th>\n",
       "      <td>7</td>\n",
       "      <td>8</td>\n",
       "      <td>0</td>\n",
       "      <td>1</td>\n",
       "      <td>3.0</td>\n",
       "    </tr>\n",
       "    <tr>\n",
       "      <th>29</th>\n",
       "      <td>7</td>\n",
       "      <td>8</td>\n",
       "      <td>1</td>\n",
       "      <td>2</td>\n",
       "      <td>9.0</td>\n",
       "    </tr>\n",
       "    <tr>\n",
       "      <th>30</th>\n",
       "      <td>7</td>\n",
       "      <td>8</td>\n",
       "      <td>2</td>\n",
       "      <td>3</td>\n",
       "      <td>18.0</td>\n",
       "    </tr>\n",
       "    <tr>\n",
       "      <th>31</th>\n",
       "      <td>7</td>\n",
       "      <td>8</td>\n",
       "      <td>3</td>\n",
       "      <td>4</td>\n",
       "      <td>21.0</td>\n",
       "    </tr>\n",
       "    <tr>\n",
       "      <th>32</th>\n",
       "      <td>7</td>\n",
       "      <td>8</td>\n",
       "      <td>4</td>\n",
       "      <td>5</td>\n",
       "      <td>18.0</td>\n",
       "    </tr>\n",
       "    <tr>\n",
       "      <th>33</th>\n",
       "      <td>7</td>\n",
       "      <td>8</td>\n",
       "      <td>5</td>\n",
       "      <td>6</td>\n",
       "      <td>9.0</td>\n",
       "    </tr>\n",
       "    <tr>\n",
       "      <th>34</th>\n",
       "      <td>7</td>\n",
       "      <td>8</td>\n",
       "      <td>6</td>\n",
       "      <td>7</td>\n",
       "      <td>3.0</td>\n",
       "    </tr>\n",
       "    <tr>\n",
       "      <th>35</th>\n",
       "      <td>8</td>\n",
       "      <td>9</td>\n",
       "      <td>0</td>\n",
       "      <td>1</td>\n",
       "      <td>6.0</td>\n",
       "    </tr>\n",
       "    <tr>\n",
       "      <th>36</th>\n",
       "      <td>8</td>\n",
       "      <td>9</td>\n",
       "      <td>1</td>\n",
       "      <td>2</td>\n",
       "      <td>18.0</td>\n",
       "    </tr>\n",
       "    <tr>\n",
       "      <th>37</th>\n",
       "      <td>8</td>\n",
       "      <td>9</td>\n",
       "      <td>2</td>\n",
       "      <td>3</td>\n",
       "      <td>36.0</td>\n",
       "    </tr>\n",
       "    <tr>\n",
       "      <th>38</th>\n",
       "      <td>8</td>\n",
       "      <td>9</td>\n",
       "      <td>3</td>\n",
       "      <td>4</td>\n",
       "      <td>42.0</td>\n",
       "    </tr>\n",
       "    <tr>\n",
       "      <th>39</th>\n",
       "      <td>8</td>\n",
       "      <td>9</td>\n",
       "      <td>4</td>\n",
       "      <td>5</td>\n",
       "      <td>36.0</td>\n",
       "    </tr>\n",
       "    <tr>\n",
       "      <th>40</th>\n",
       "      <td>8</td>\n",
       "      <td>9</td>\n",
       "      <td>5</td>\n",
       "      <td>6</td>\n",
       "      <td>18.0</td>\n",
       "    </tr>\n",
       "    <tr>\n",
       "      <th>41</th>\n",
       "      <td>8</td>\n",
       "      <td>9</td>\n",
       "      <td>6</td>\n",
       "      <td>7</td>\n",
       "      <td>6.0</td>\n",
       "    </tr>\n",
       "    <tr>\n",
       "      <th>42</th>\n",
       "      <td>9</td>\n",
       "      <td>10</td>\n",
       "      <td>0</td>\n",
       "      <td>1</td>\n",
       "      <td>7.0</td>\n",
       "    </tr>\n",
       "    <tr>\n",
       "      <th>43</th>\n",
       "      <td>9</td>\n",
       "      <td>10</td>\n",
       "      <td>1</td>\n",
       "      <td>2</td>\n",
       "      <td>21.0</td>\n",
       "    </tr>\n",
       "    <tr>\n",
       "      <th>44</th>\n",
       "      <td>9</td>\n",
       "      <td>10</td>\n",
       "      <td>2</td>\n",
       "      <td>3</td>\n",
       "      <td>42.0</td>\n",
       "    </tr>\n",
       "    <tr>\n",
       "      <th>45</th>\n",
       "      <td>9</td>\n",
       "      <td>10</td>\n",
       "      <td>3</td>\n",
       "      <td>4</td>\n",
       "      <td>49.0</td>\n",
       "    </tr>\n",
       "    <tr>\n",
       "      <th>46</th>\n",
       "      <td>9</td>\n",
       "      <td>10</td>\n",
       "      <td>4</td>\n",
       "      <td>5</td>\n",
       "      <td>42.0</td>\n",
       "    </tr>\n",
       "    <tr>\n",
       "      <th>47</th>\n",
       "      <td>9</td>\n",
       "      <td>10</td>\n",
       "      <td>5</td>\n",
       "      <td>6</td>\n",
       "      <td>21.0</td>\n",
       "    </tr>\n",
       "    <tr>\n",
       "      <th>48</th>\n",
       "      <td>9</td>\n",
       "      <td>10</td>\n",
       "      <td>6</td>\n",
       "      <td>7</td>\n",
       "      <td>7.0</td>\n",
       "    </tr>\n",
       "  </tbody>\n",
       "</table>\n",
       "</div>"
      ],
      "text/plain": [
       "    p1  s1  p2  s2     u\n",
       "0    0   1   0   1   6.0\n",
       "1    0   1   1   2  18.0\n",
       "2    0   1   2   3  36.0\n",
       "3    0   1   3   4  42.0\n",
       "4    0   1   4   5  36.0\n",
       "5    0   1   5   6  18.0\n",
       "6    0   1   6   7   6.0\n",
       "7    1   2   0   1   3.0\n",
       "8    1   2   1   2   9.0\n",
       "9    1   2   2   3  18.0\n",
       "10   1   2   3   4  21.0\n",
       "11   1   2   4   5  18.0\n",
       "12   1   2   5   6   9.0\n",
       "13   1   2   6   7   3.0\n",
       "14   2   3   0   1   1.0\n",
       "15   2   3   1   2   3.0\n",
       "16   2   3   2   3   6.0\n",
       "17   2   3   3   4   7.0\n",
       "18   2   3   4   5   6.0\n",
       "19   2   3   5   6   3.0\n",
       "20   2   3   6   7   1.0\n",
       "21   6   7   0   1   1.0\n",
       "22   6   7   1   2   3.0\n",
       "23   6   7   2   3   6.0\n",
       "24   6   7   3   4   7.0\n",
       "25   6   7   4   5   6.0\n",
       "26   6   7   5   6   3.0\n",
       "27   6   7   6   7   1.0\n",
       "28   7   8   0   1   3.0\n",
       "29   7   8   1   2   9.0\n",
       "30   7   8   2   3  18.0\n",
       "31   7   8   3   4  21.0\n",
       "32   7   8   4   5  18.0\n",
       "33   7   8   5   6   9.0\n",
       "34   7   8   6   7   3.0\n",
       "35   8   9   0   1   6.0\n",
       "36   8   9   1   2  18.0\n",
       "37   8   9   2   3  36.0\n",
       "38   8   9   3   4  42.0\n",
       "39   8   9   4   5  36.0\n",
       "40   8   9   5   6  18.0\n",
       "41   8   9   6   7   6.0\n",
       "42   9  10   0   1   7.0\n",
       "43   9  10   1   2  21.0\n",
       "44   9  10   2   3  42.0\n",
       "45   9  10   3   4  49.0\n",
       "46   9  10   4   5  42.0\n",
       "47   9  10   5   6  21.0\n",
       "48   9  10   6   7   7.0"
      ]
     },
     "execution_count": 18,
     "metadata": {},
     "output_type": "execute_result"
    }
   ],
   "source": [
    "universo_df"
   ]
  },
  {
   "cell_type": "code",
   "execution_count": null,
   "metadata": {},
   "outputs": [],
   "source": []
  }
 ],
 "metadata": {
  "kernelspec": {
   "display_name": "Python 3",
   "language": "python",
   "name": "python3"
  },
  "language_info": {
   "codemirror_mode": {
    "name": "ipython",
    "version": 3
   },
   "file_extension": ".py",
   "mimetype": "text/x-python",
   "name": "python",
   "nbconvert_exporter": "python",
   "pygments_lexer": "ipython3",
   "version": "3.6.8"
  }
 },
 "nbformat": 4,
 "nbformat_minor": 2
}
